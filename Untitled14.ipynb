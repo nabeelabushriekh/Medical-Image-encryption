{
  "nbformat": 4,
  "nbformat_minor": 0,
  "metadata": {
    "colab": {
      "provenance": []
    },
    "kernelspec": {
      "name": "python3",
      "display_name": "Python 3"
    },
    "language_info": {
      "name": "python"
    }
  },
  "cells": [
    {
      "cell_type": "code",
      "execution_count": 5,
      "metadata": {
        "colab": {
          "base_uri": "https://localhost:8080/"
        },
        "id": "YDc2ZdLrwZE9",
        "outputId": "0fe726f7-f158-4fef-d963-46f47eb4286f"
      },
      "outputs": [
        {
          "output_type": "stream",
          "name": "stdout",
          "text": [
            "\n",
            "Enter Key for encryption of Image : 23\n",
            "The path of file :  /content/image.jpeg\n",
            "Key for encryption :  23\n",
            "Encryption Done...\n"
          ]
        }
      ],
      "source": [
        "#python code for encryption\n",
        "\n",
        "# take path of image as a input\n",
        "print('')\n",
        "path = r'/content/image.jpeg'\n",
        "\t\n",
        "# taking encryption key as input\n",
        "key = int(input('Enter Key for encryption of Image : '))\n",
        "\t\n",
        "# print path of image file and encryption key that\n",
        "# we are using\n",
        "print('The path of file : ', path)\n",
        "print('Key for encryption : ', key)\n",
        "\t\n",
        "# open file for reading purpose\n",
        "fin = open(path, 'rb')\n",
        "\t\n",
        "# storing image data in variable \"image\"\n",
        "image = fin.read()\n",
        "fin.close()\n",
        "\t\n",
        "# converting image into byte array to\n",
        "# perform encryption easily on numeric data\n",
        "image = bytearray(image)\n",
        "\n",
        "# performing XOR operation on each value of bytearray\n",
        "for index, values in enumerate(image):\n",
        "        image[index] = values ^ key\n",
        "\n",
        "# opening file for writting purpose\n",
        "fin = open(path, 'wb')\n",
        "\t\n",
        "# writing encrypted data in image\n",
        "fin.write(image)\n",
        "fin.close()\n",
        "print('Encryption Done...')"
      ]
    },
    {
      "cell_type": "code",
      "source": [
        "# try block to handle the exception\n",
        "try:\n",
        "\t# take path of image as a input\n",
        "\tpath = r'/content/image.jpeg'\n",
        "\t\n",
        "\t# taking decryption key as input\n",
        "\tkey = int(input('Enter Key for encryption of Image : '))\n",
        "\t\n",
        "\t# print path of image file and decryption key that we are using\n",
        "\tprint('The path of file : ', path)\n",
        "\tprint('Note : Encryption key and Decryption key must be same.')\n",
        "\tprint('Key for Decryption : ', key)\n",
        "\t\n",
        "\t# open file for reading purpose\n",
        "\tfin = open(path, 'rb')\n",
        "\t\n",
        "\t# storing image data in variable \"image\"\n",
        "\timage = fin.read()\n",
        "\tfin.close()\n",
        "\t\n",
        "\t# converting image into byte array to perform decryption easily on numeric data\n",
        "\timage = bytearray(image)\n",
        "\n",
        "\t# performing XOR operation on each value of bytearray\n",
        "\tfor index, values in enumerate(image):\n",
        "\t\timage[index] = values ^ key\n",
        "\n",
        "\t# opening file for writting purpose\n",
        "\tfin = open(path, 'wb')\n",
        "\t\n",
        "\t# writing decryption data in image\n",
        "\tfin.write(image)\n",
        "\tfin.close()\n",
        "\tprint('Decryption Done...')\n",
        "\n",
        "\n",
        "except Exception:\n",
        "\tprint('Error caught : ', Exception._name_)"
      ],
      "metadata": {
        "colab": {
          "base_uri": "https://localhost:8080/"
        },
        "id": "gq0vht_Aw0ZW",
        "outputId": "4132cf57-6dd4-4186-b5c1-8c44471c6b99"
      },
      "execution_count": 6,
      "outputs": [
        {
          "output_type": "stream",
          "name": "stdout",
          "text": [
            "Enter Key for encryption of Image : 23\n",
            "The path of file :  /content/image.jpeg\n",
            "Note : Encryption key and Decryption key must be same.\n",
            "Key for Decryption :  23\n",
            "Decryption Done...\n"
          ]
        }
      ]
    },
    {
      "cell_type": "code",
      "source": [],
      "metadata": {
        "id": "UqP7KYgvzBVS"
      },
      "execution_count": null,
      "outputs": []
    }
  ]
}